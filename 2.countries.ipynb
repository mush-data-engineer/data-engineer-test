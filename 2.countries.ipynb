{
  "cells": [
    {
      "cell_type": "code",
      "execution_count": null,
      "metadata": {
        "id": "2HJPGWrzODBx"
      },
      "outputs": [],
      "source": [
        "# %run \"/content/drive/MyDrive/Colab Notebooks/spark-setup.ipynb\""
      ]
    },
    {
      "cell_type": "code",
      "source": [
        "!pip install -q pycountry\n",
        "import pycountry"
      ],
      "metadata": {
        "colab": {
          "base_uri": "https://localhost:8080/"
        },
        "id": "mi4lp0_Qf89H",
        "outputId": "36fe4d80-aa08-4487-8895-11ab507c3da5"
      },
      "execution_count": null,
      "outputs": [
        {
          "output_type": "stream",
          "name": "stdout",
          "text": [
            "\u001b[2K   \u001b[90m━━━━━━━━━━━━━━━━━━━━━━━━━━━━━━━━━━━━━━━━\u001b[0m \u001b[32m6.3/6.3 MB\u001b[0m \u001b[31m20.6 MB/s\u001b[0m eta \u001b[36m0:00:00\u001b[0m\n",
            "\u001b[?25h"
          ]
        }
      ]
    },
    {
      "cell_type": "code",
      "execution_count": null,
      "metadata": {
        "id": "68CAAn3c9opn"
      },
      "outputs": [],
      "source": [
        "# read countries\n",
        "countries_df =spark.read.options(inferSchema=True, header=True).csv(\"/content/drive/MyDrive/datasets/countries/countries of the world.csv\")\n",
        "from pyspark.sql.functions import trim, ltrim, rtrim, col\n"
      ]
    },
    {
      "cell_type": "code",
      "source": [
        "#Trim columns\n",
        "countries_df = countries_df.withColumn(\"Country\", rtrim(col(\"Country\")))"
      ],
      "metadata": {
        "id": "uMe38HKYmoKy"
      },
      "execution_count": null,
      "outputs": []
    },
    {
      "cell_type": "code",
      "execution_count": null,
      "metadata": {
        "id": "4eTOUG4iTlzB"
      },
      "outputs": [],
      "source": [
        "#Rename columns\n",
        "countries_df = countries_df \\\n",
        "  .withColumnRenamed('Area (sq. mi.)','area_per_squaremile' ) \\\n",
        "  .withColumnRenamed('Pop. Density (per sq. mi.)','population_density_per_square_mile' ) \\\n",
        "  .withColumnRenamed('Coastline (coast/area ratio)','coastline_area_ratio' ) \\\n",
        "  .withColumnRenamed('Net migration','net_migration' ) \\\n",
        "  .withColumnRenamed('Infant mortality (per 1000 births)','infant_mortality_per_thousand' ) \\\n",
        "  .withColumnRenamed('GDP ($ per capita)', 'gdp') \\\n",
        "  .withColumnRenamed('Literacy (%)', 'literacy_rate') \\\n",
        "  .withColumnRenamed('Phones (per 1000)', 'phones_per_thousand') \\\n",
        "  .withColumnRenamed('Arable (%)', 'arable_percentage') \\\n",
        "  .withColumnRenamed('Crops (%)', 'crops_percentage') \\\n",
        "  .withColumnRenamed('Other (%)', 'other_percentage') \\\n",
        "  .withColumnRenamed('Climate', 'climate')\n"
      ]
    },
    {
      "cell_type": "code",
      "source": [
        "from pyspark.sql.functions import col, udf\n",
        "from pyspark.sql.types import StringType\n",
        "\n",
        "def get_country_code(country_name):\n",
        "    code = \"\"\n",
        "    try:\n",
        "        return pycountry.countries.lookup(country_name).alpha_3\n",
        "    except:\n",
        "        return None\n",
        "\n",
        "convertCountry = udf(lambda z:get_country_code(z),StringType())\n"
      ],
      "metadata": {
        "id": "VdxrONZPgp5h"
      },
      "execution_count": null,
      "outputs": []
    },
    {
      "cell_type": "code",
      "source": [
        "countries_df = countries_df.withColumn(\"Country_Code\", convertCountry(countries_df.Country))"
      ],
      "metadata": {
        "id": "NvB38s9fgdTM"
      },
      "execution_count": null,
      "outputs": []
    },
    {
      "cell_type": "code",
      "execution_count": null,
      "metadata": {
        "id": "tcBdh_YIB5RU"
      },
      "outputs": [],
      "source": [
        "spark.sql(\"use olympics_db\")"
      ]
    },
    {
      "cell_type": "code",
      "execution_count": null,
      "metadata": {
        "colab": {
          "background_save": true
        },
        "id": "3UP3On54B_F6"
      },
      "outputs": [],
      "source": [
        "countries_df.write.mode(\"overwrite\").format(\"delta\").saveAsTable(\"countries\")"
      ]
    }
  ],
  "metadata": {
    "colab": {
      "provenance": []
    },
    "kernelspec": {
      "display_name": "Python 3",
      "name": "python3"
    },
    "language_info": {
      "name": "python"
    }
  },
  "nbformat": 4,
  "nbformat_minor": 0
}
