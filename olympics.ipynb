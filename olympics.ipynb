{
  "nbformat": 4,
  "nbformat_minor": 0,
  "metadata": {
    "colab": {
      "provenance": []
    },
    "kernelspec": {
      "name": "python3",
      "display_name": "Python 3"
    },
    "language_info": {
      "name": "python"
    }
  },
  "cells": [
    {
      "cell_type": "code",
      "source": [
        "# %run \"/content/drive/MyDrive/Colab Notebooks/spark-setup.ipynb\""
      ],
      "metadata": {
        "id": "2HJPGWrzODBx"
      },
      "execution_count": null,
      "outputs": []
    },
    {
      "cell_type": "code",
      "source": [
        "import pyspark.sql.functions as F\n",
        "import re\n",
        "import os\n",
        "year_pattern = re.compile(r'(19[0-9]{2}|20[0-2][0-9])')"
      ],
      "metadata": {
        "id": "Wa42_Kq42CPP"
      },
      "execution_count": null,
      "outputs": []
    },
    {
      "cell_type": "code",
      "source": [
        "csv_dir = '/content/drive/MyDrive/datasets/olympics/'\n",
        "csv_files = [f for f in os.listdir(csv_dir) if f.endswith('.csv')]\n",
        "olympics_df = None\n",
        "\n",
        "for csv_file in csv_files:\n",
        "    # Load the CSV file into a DataFrame\n",
        "    year = None\n",
        "    match = year_pattern.search(csv_file)\n",
        "    if match:\n",
        "        year = match.group(0)  # Extracted year from the file name\n",
        "\n",
        "    file_path = os.path.join(csv_dir, csv_file)\n",
        "    temp_df = spark.read.csv(file_path, header=True, inferSchema=True)\n",
        "    temp_df = temp_df.withColumn('Year', F.lit(year))\n",
        "\n",
        "    # Combine the data into one DataFrame (using union)\n",
        "    if olympics_df is None:\n",
        "        olympics_df = temp_df\n",
        "    else:\n",
        "        olympics_df = olympics_df.union(temp_df)"
      ],
      "metadata": {
        "id": "Hnf8KVHv92ls"
      },
      "execution_count": null,
      "outputs": []
    },
    {
      "cell_type": "code",
      "source": [
        "olympics_df.show()"
      ],
      "metadata": {
        "id": "w6c5ZLcIPT7e"
      },
      "execution_count": null,
      "outputs": []
    },
    {
      "cell_type": "code",
      "source": [
        "spark.sql(\"use olympics_db\")"
      ],
      "metadata": {
        "id": "tcBdh_YIB5RU"
      },
      "execution_count": null,
      "outputs": []
    },
    {
      "cell_type": "code",
      "source": [
        "olympics_df.write.mode(\"overwrite\").format(\"delta\").saveAsTable(\"olympics\")"
      ],
      "metadata": {
        "id": "3UP3On54B_F6"
      },
      "execution_count": null,
      "outputs": []
    }
  ]
}