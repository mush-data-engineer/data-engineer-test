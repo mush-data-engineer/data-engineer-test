{
  "cells": [
    {
      "cell_type": "code",
      "execution_count": null,
      "metadata": {
        "colab": {
          "base_uri": "https://localhost:8080/"
        },
        "id": "2HJPGWrzODBx",
        "outputId": "c800e49c-7500-4e96-92b1-90fdd78d31ee"
      },
      "outputs": [
        {
          "output_type": "stream",
          "name": "stdout",
          "text": [
            "\u001b[2K     \u001b[90m━━━━━━━━━━━━━━━━━━━━━━━━━━━━━━━━━━━━━━━━\u001b[0m \u001b[32m317.3/317.3 MB\u001b[0m \u001b[31m1.6 MB/s\u001b[0m eta \u001b[36m0:00:00\u001b[0m\n",
            "\u001b[?25h  Preparing metadata (setup.py) ... \u001b[?25l\u001b[?25hdone\n",
            "  Building wheel for pyspark (setup.py) ... \u001b[?25l\u001b[?25hdone\n"
          ]
        }
      ],
      "source": [
        "# %run \"/content/drive/MyDrive/Colab Notebooks/spark-setup.ipynb\""
      ]
    },
    {
      "cell_type": "code",
      "source": [
        "!pip install -q pycountry\n",
        "import pycountry"
      ],
      "metadata": {
        "colab": {
          "base_uri": "https://localhost:8080/"
        },
        "id": "mi4lp0_Qf89H",
        "outputId": "36fe4d80-aa08-4487-8895-11ab507c3da5"
      },
      "execution_count": null,
      "outputs": [
        {
          "output_type": "stream",
          "name": "stdout",
          "text": [
            "\u001b[2K   \u001b[90m━━━━━━━━━━━━━━━━━━━━━━━━━━━━━━━━━━━━━━━━\u001b[0m \u001b[32m6.3/6.3 MB\u001b[0m \u001b[31m20.6 MB/s\u001b[0m eta \u001b[36m0:00:00\u001b[0m\n",
            "\u001b[?25h"
          ]
        }
      ]
    },
    {
      "cell_type": "code",
      "execution_count": null,
      "metadata": {
        "id": "68CAAn3c9opn"
      },
      "outputs": [],
      "source": [
        "# read countries\n",
        "countries_df =spark.read.options(inferSchema=True, header=True).csv(\"/content/drive/MyDrive/datasets/countries/countries of the world.csv\")\n",
        "from pyspark.sql.functions import trim, ltrim, rtrim, col\n"
      ]
    },
    {
      "cell_type": "code",
      "source": [
        "#Trim columns\n",
        "countries_df = countries_df.withColumn(\"Country\", rtrim(col(\"Country\")))"
      ],
      "metadata": {
        "id": "uMe38HKYmoKy"
      },
      "execution_count": null,
      "outputs": []
    },
    {
      "cell_type": "code",
      "execution_count": null,
      "metadata": {
        "id": "4eTOUG4iTlzB"
      },
      "outputs": [],
      "source": [
        "#Rename columns\n",
        "countries_df = countries_df \\\n",
        "  .withColumnRenamed('Area (sq. mi.)','area_per_squaremile' ) \\\n",
        "  .withColumnRenamed('Pop. Density (per sq. mi.)','population_density_per_square_mile' ) \\\n",
        "  .withColumnRenamed('Coastline (coast/area ratio)','coastline_area_ratio' ) \\\n",
        "  .withColumnRenamed('Net migration','net_migration' ) \\\n",
        "  .withColumnRenamed('Infant mortality (per 1000 births)','infant_mortality_per_thousand' ) \\\n",
        "  .withColumnRenamed('GDP ($ per capita)', 'gdp') \\\n",
        "  .withColumnRenamed('Literacy (%)', 'literacy_rate') \\\n",
        "  .withColumnRenamed('Phones (per 1000)', 'phones_per_thousand') \\\n",
        "  .withColumnRenamed('Arable (%)', 'arable_percentage') \\\n",
        "  .withColumnRenamed('Crops (%)', 'crops_percentage') \\\n",
        "  .withColumnRenamed('Other (%)', 'other_percentage') \\\n",
        "  .withColumnRenamed('Climate', 'climate')\n"
      ]
    },
    {
      "cell_type": "code",
      "execution_count": null,
      "metadata": {
        "colab": {
          "base_uri": "https://localhost:8080/"
        },
        "id": "w6c5ZLcIPT7e",
        "outputId": "81453a7d-69e4-46ea-ea42-c10437eacd41"
      },
      "outputs": [
        {
          "output_type": "stream",
          "name": "stdout",
          "text": [
            "+-----------------+--------------------+----------+-------------------+----------------------------------+--------------------+-------------+-----------------------------+-----+-------------+-------------------+-----------------+----------------+----------------+-------+---------+---------+-----------+--------+-------+\n",
            "|          Country|              Region|Population|area_per_squaremile|population_density_per_square_mile|coastline_area_ratio|net_migration|infant_mortality_per_thousand|  gdp|literacy_rate|phones_per_thousand|arable_percentage|crops_percentage|other_percentage|climate|Birthrate|Deathrate|Agriculture|Industry|Service|\n",
            "+-----------------+--------------------+----------+-------------------+----------------------------------+--------------------+-------------+-----------------------------+-----+-------------+-------------------+-----------------+----------------+----------------+-------+---------+---------+-----------+--------+-------+\n",
            "|      Afghanistan|ASIA (EX. NEAR EAST)|  31056997|             647500|                              48,0|                0,00|        23,06|                       163,07|  700|         36,0|                3,2|            12,13|            0,22|           87,65|      1|     46,6|    20,34|       0,38|    0,24|   0,38|\n",
            "|          Albania|      EASTERN EUROPE|   3581655|              28748|                             124,6|                1,26|        -4,93|                        21,52| 4500|         86,5|               71,2|            21,09|            4,42|           74,49|      3|    15,11|     5,22|      0,232|   0,188|  0,579|\n",
            "|          Algeria|     NORTHERN AFRICA|  32930091|            2381740|                              13,8|                0,04|        -0,39|                           31| 6000|         70,0|               78,1|             3,22|            0,25|           96,53|      1|    17,14|     4,61|      0,101|     0,6|  0,298|\n",
            "|   American Samoa|             OCEANIA|     57794|                199|                             290,4|               58,29|       -20,71|                         9,27| 8000|         97,0|              259,5|               10|              15|              75|      2|    22,46|     3,27|       NULL|    NULL|   NULL|\n",
            "|          Andorra|      WESTERN EUROPE|     71201|                468|                             152,1|                0,00|          6,6|                         4,05|19000|        100,0|              497,2|             2,22|               0|           97,78|      3|     8,71|     6,25|       NULL|    NULL|   NULL|\n",
            "|           Angola|  SUB-SAHARAN AFRICA|  12127071|            1246700|                               9,7|                0,13|            0|                       191,19| 1900|         42,0|                7,8|             2,41|            0,24|           97,35|   NULL|    45,11|     24,2|      0,096|   0,658|  0,246|\n",
            "|         Anguilla| LATIN AMER. & CARIB|     13477|                102|                             132,1|               59,80|        10,76|                        21,03| 8600|         95,0|              460,0|                0|               0|             100|      2|    14,17|     5,34|       0,04|    0,18|   0,78|\n",
            "|Antigua & Barbuda| LATIN AMER. & CARIB|     69108|                443|                             156,0|               34,54|        -6,15|                        19,46|11000|         89,0|              549,9|            18,18|            4,55|           77,27|      2|    16,93|     5,37|      0,038|    0,22|  0,743|\n",
            "|        Argentina| LATIN AMER. & CARIB|  39921833|            2766890|                              14,4|                0,18|         0,61|                        15,18|11200|         97,1|              220,4|            12,31|            0,48|           87,21|      3|    16,73|     7,55|      0,095|   0,358|  0,547|\n",
            "|          Armenia| C.W. OF IND. STATES|   2976372|              29800|                              99,9|                0,00|        -6,47|                        23,28| 3500|         98,6|              195,7|            17,55|             2,3|           80,15|      4|    12,07|     8,23|      0,239|   0,343|  0,418|\n",
            "|            Aruba| LATIN AMER. & CARIB|     71891|                193|                             372,5|               35,49|            0|                         5,89|28000|         97,0|              516,1|            10,53|               0|           89,47|      2|    11,03|     6,68|      0,004|   0,333|  0,663|\n",
            "|        Australia|             OCEANIA|  20264082|            7686850|                               2,6|                0,34|         3,98|                         4,69|29000|        100,0|              565,5|             6,55|            0,04|           93,41|      1|    12,14|     7,51|      0,038|   0,262|    0,7|\n",
            "|          Austria|      WESTERN EUROPE|   8192880|              83870|                              97,7|                0,00|            2|                         4,66|30000|         98,0|              452,2|            16,91|            0,86|           82,23|      3|     8,74|     9,76|      0,018|   0,304|  0,678|\n",
            "|       Azerbaijan| C.W. OF IND. STATES|   7961619|              86600|                              91,9|                0,00|         -4,9|                        81,74| 3400|         97,0|              137,1|            19,63|            2,71|           77,66|      1|    20,74|     9,75|      0,141|   0,457|  0,402|\n",
            "|     Bahamas, The| LATIN AMER. & CARIB|    303770|              13940|                              21,8|               25,41|         -2,2|                        25,21|16700|         95,6|              460,6|              0,8|             0,4|            98,8|      2|    17,57|     9,05|       0,03|    0,07|    0,9|\n",
            "|          Bahrain|           NEAR EAST|    698585|                665|                            1050,5|               24,21|         1,05|                        17,27|16900|         89,1|              281,3|             2,82|            5,63|           91,55|      1|     17,8|     4,14|      0,005|   0,387|  0,608|\n",
            "|       Bangladesh|ASIA (EX. NEAR EAST)| 147365352|             144000|                            1023,4|                0,40|        -0,71|                         62,6| 1900|         43,1|                7,3|            62,11|            3,07|           34,82|      2|     29,8|     8,27|      0,199|   0,198|  0,603|\n",
            "|         Barbados| LATIN AMER. & CARIB|    279912|                431|                             649,5|               22,51|        -0,31|                         12,5|15700|         97,4|              481,9|            37,21|            2,33|           60,46|      2|    12,71|     8,67|       0,06|    0,16|   0,78|\n",
            "|          Belarus| C.W. OF IND. STATES|  10293011|             207600|                              49,6|                0,00|         2,54|                        13,37| 6100|         99,6|              319,1|            29,55|             0,6|           69,85|      4|    11,16|    14,02|      0,093|   0,316|  0,591|\n",
            "|          Belgium|      WESTERN EUROPE|  10379067|              30528|                             340,0|                0,22|         1,23|                         4,68|29100|         98,0|              462,6|            23,28|             0,4|           76,32|      3|    10,38|    10,27|       0,01|    0,24|  0,749|\n",
            "+-----------------+--------------------+----------+-------------------+----------------------------------+--------------------+-------------+-----------------------------+-----+-------------+-------------------+-----------------+----------------+----------------+-------+---------+---------+-----------+--------+-------+\n",
            "only showing top 20 rows\n",
            "\n"
          ]
        }
      ],
      "source": [
        "countries_df.show()"
      ]
    },
    {
      "cell_type": "code",
      "source": [
        "from pyspark.sql.functions import col, udf\n",
        "from pyspark.sql.types import StringType\n",
        "\n",
        "def get_country_code(country_name):\n",
        "    code = \"\"\n",
        "    try:\n",
        "        return pycountry.countries.lookup(country_name).alpha_3\n",
        "    except:\n",
        "        return None\n",
        "\n",
        "convertCountry = udf(lambda z:get_country_code(z),StringType())\n"
      ],
      "metadata": {
        "id": "VdxrONZPgp5h"
      },
      "execution_count": null,
      "outputs": []
    },
    {
      "cell_type": "code",
      "source": [
        "get_country_code('Austria')"
      ],
      "metadata": {
        "colab": {
          "base_uri": "https://localhost:8080/",
          "height": 36
        },
        "id": "eTzhHFHUjzBL",
        "outputId": "adbec232-b29e-48bf-8c2b-7da83774b525"
      },
      "execution_count": null,
      "outputs": [
        {
          "output_type": "execute_result",
          "data": {
            "text/plain": [
              "'AUT'"
            ],
            "application/vnd.google.colaboratory.intrinsic+json": {
              "type": "string"
            }
          },
          "metadata": {},
          "execution_count": 14
        }
      ]
    },
    {
      "cell_type": "code",
      "source": [
        "countries_df = countries_df.withColumn(\"Country_Code\", convertCountry(countries_df.Country))"
      ],
      "metadata": {
        "id": "NvB38s9fgdTM"
      },
      "execution_count": null,
      "outputs": []
    },
    {
      "cell_type": "code",
      "source": [
        "countries_df.show()"
      ],
      "metadata": {
        "colab": {
          "base_uri": "https://localhost:8080/"
        },
        "id": "BfdMkiGphRCe",
        "outputId": "0c0333f4-8c6d-4bd9-e3a8-25bc59ed7051"
      },
      "execution_count": null,
      "outputs": [
        {
          "output_type": "stream",
          "name": "stdout",
          "text": [
            "+-----------------+--------------------+----------+-------------------+----------------------------------+--------------------+-------------+-----------------------------+-----+-------------+-------------------+-----------------+----------------+----------------+-------+---------+---------+-----------+--------+-------+------------+\n",
            "|          Country|              Region|Population|area_per_squaremile|population_density_per_square_mile|coastline_area_ratio|net_migration|infant_mortality_per_thousand|  gdp|literacy_rate|phones_per_thousand|arable_percentage|crops_percentage|other_percentage|climate|Birthrate|Deathrate|Agriculture|Industry|Service|Country_Code|\n",
            "+-----------------+--------------------+----------+-------------------+----------------------------------+--------------------+-------------+-----------------------------+-----+-------------+-------------------+-----------------+----------------+----------------+-------+---------+---------+-----------+--------+-------+------------+\n",
            "|      Afghanistan|ASIA (EX. NEAR EAST)|  31056997|             647500|                              48,0|                0,00|        23,06|                       163,07|  700|         36,0|                3,2|            12,13|            0,22|           87,65|      1|     46,6|    20,34|       0,38|    0,24|   0,38|         AFG|\n",
            "|          Albania|      EASTERN EUROPE|   3581655|              28748|                             124,6|                1,26|        -4,93|                        21,52| 4500|         86,5|               71,2|            21,09|            4,42|           74,49|      3|    15,11|     5,22|      0,232|   0,188|  0,579|         ALB|\n",
            "|          Algeria|     NORTHERN AFRICA|  32930091|            2381740|                              13,8|                0,04|        -0,39|                           31| 6000|         70,0|               78,1|             3,22|            0,25|           96,53|      1|    17,14|     4,61|      0,101|     0,6|  0,298|         DZA|\n",
            "|   American Samoa|             OCEANIA|     57794|                199|                             290,4|               58,29|       -20,71|                         9,27| 8000|         97,0|              259,5|               10|              15|              75|      2|    22,46|     3,27|       NULL|    NULL|   NULL|         ASM|\n",
            "|          Andorra|      WESTERN EUROPE|     71201|                468|                             152,1|                0,00|          6,6|                         4,05|19000|        100,0|              497,2|             2,22|               0|           97,78|      3|     8,71|     6,25|       NULL|    NULL|   NULL|         AND|\n",
            "|           Angola|  SUB-SAHARAN AFRICA|  12127071|            1246700|                               9,7|                0,13|            0|                       191,19| 1900|         42,0|                7,8|             2,41|            0,24|           97,35|   NULL|    45,11|     24,2|      0,096|   0,658|  0,246|         AGO|\n",
            "|         Anguilla| LATIN AMER. & CARIB|     13477|                102|                             132,1|               59,80|        10,76|                        21,03| 8600|         95,0|              460,0|                0|               0|             100|      2|    14,17|     5,34|       0,04|    0,18|   0,78|         AIA|\n",
            "|Antigua & Barbuda| LATIN AMER. & CARIB|     69108|                443|                             156,0|               34,54|        -6,15|                        19,46|11000|         89,0|              549,9|            18,18|            4,55|           77,27|      2|    16,93|     5,37|      0,038|    0,22|  0,743|        NULL|\n",
            "|        Argentina| LATIN AMER. & CARIB|  39921833|            2766890|                              14,4|                0,18|         0,61|                        15,18|11200|         97,1|              220,4|            12,31|            0,48|           87,21|      3|    16,73|     7,55|      0,095|   0,358|  0,547|         ARG|\n",
            "|          Armenia| C.W. OF IND. STATES|   2976372|              29800|                              99,9|                0,00|        -6,47|                        23,28| 3500|         98,6|              195,7|            17,55|             2,3|           80,15|      4|    12,07|     8,23|      0,239|   0,343|  0,418|         ARM|\n",
            "|            Aruba| LATIN AMER. & CARIB|     71891|                193|                             372,5|               35,49|            0|                         5,89|28000|         97,0|              516,1|            10,53|               0|           89,47|      2|    11,03|     6,68|      0,004|   0,333|  0,663|         ABW|\n",
            "|        Australia|             OCEANIA|  20264082|            7686850|                               2,6|                0,34|         3,98|                         4,69|29000|        100,0|              565,5|             6,55|            0,04|           93,41|      1|    12,14|     7,51|      0,038|   0,262|    0,7|         AUS|\n",
            "|          Austria|      WESTERN EUROPE|   8192880|              83870|                              97,7|                0,00|            2|                         4,66|30000|         98,0|              452,2|            16,91|            0,86|           82,23|      3|     8,74|     9,76|      0,018|   0,304|  0,678|         AUT|\n",
            "|       Azerbaijan| C.W. OF IND. STATES|   7961619|              86600|                              91,9|                0,00|         -4,9|                        81,74| 3400|         97,0|              137,1|            19,63|            2,71|           77,66|      1|    20,74|     9,75|      0,141|   0,457|  0,402|         AZE|\n",
            "|     Bahamas, The| LATIN AMER. & CARIB|    303770|              13940|                              21,8|               25,41|         -2,2|                        25,21|16700|         95,6|              460,6|              0,8|             0,4|            98,8|      2|    17,57|     9,05|       0,03|    0,07|    0,9|        NULL|\n",
            "|          Bahrain|           NEAR EAST|    698585|                665|                            1050,5|               24,21|         1,05|                        17,27|16900|         89,1|              281,3|             2,82|            5,63|           91,55|      1|     17,8|     4,14|      0,005|   0,387|  0,608|         BHR|\n",
            "|       Bangladesh|ASIA (EX. NEAR EAST)| 147365352|             144000|                            1023,4|                0,40|        -0,71|                         62,6| 1900|         43,1|                7,3|            62,11|            3,07|           34,82|      2|     29,8|     8,27|      0,199|   0,198|  0,603|         BGD|\n",
            "|         Barbados| LATIN AMER. & CARIB|    279912|                431|                             649,5|               22,51|        -0,31|                         12,5|15700|         97,4|              481,9|            37,21|            2,33|           60,46|      2|    12,71|     8,67|       0,06|    0,16|   0,78|         BRB|\n",
            "|          Belarus| C.W. OF IND. STATES|  10293011|             207600|                              49,6|                0,00|         2,54|                        13,37| 6100|         99,6|              319,1|            29,55|             0,6|           69,85|      4|    11,16|    14,02|      0,093|   0,316|  0,591|         BLR|\n",
            "|          Belgium|      WESTERN EUROPE|  10379067|              30528|                             340,0|                0,22|         1,23|                         4,68|29100|         98,0|              462,6|            23,28|             0,4|           76,32|      3|    10,38|    10,27|       0,01|    0,24|  0,749|         BEL|\n",
            "+-----------------+--------------------+----------+-------------------+----------------------------------+--------------------+-------------+-----------------------------+-----+-------------+-------------------+-----------------+----------------+----------------+-------+---------+---------+-----------+--------+-------+------------+\n",
            "only showing top 20 rows\n",
            "\n"
          ]
        }
      ]
    },
    {
      "cell_type": "code",
      "execution_count": null,
      "metadata": {
        "colab": {
          "base_uri": "https://localhost:8080/",
          "height": 373
        },
        "id": "tcBdh_YIB5RU",
        "outputId": "d40a7f8b-1a44-49bf-e8b7-17fb831187df"
      },
      "outputs": [
        {
          "output_type": "error",
          "ename": "AnalysisException",
          "evalue": "[SCHEMA_NOT_FOUND] The schema `olympics_db` cannot be found. Verify the spelling and correctness of the schema and catalog.\nIf you did not qualify the name with a catalog, verify the current_schema() output, or qualify the name with the correct catalog.\nTo tolerate the error on drop use DROP SCHEMA IF EXISTS.",
          "traceback": [
            "\u001b[0;31m---------------------------------------------------------------------------\u001b[0m",
            "\u001b[0;31mAnalysisException\u001b[0m                         Traceback (most recent call last)",
            "\u001b[0;32m<ipython-input-91-8b1db344ae83>\u001b[0m in \u001b[0;36m<cell line: 1>\u001b[0;34m()\u001b[0m\n\u001b[0;32m----> 1\u001b[0;31m \u001b[0mspark\u001b[0m\u001b[0;34m.\u001b[0m\u001b[0msql\u001b[0m\u001b[0;34m(\u001b[0m\u001b[0;34m\"use olympics_db\"\u001b[0m\u001b[0;34m)\u001b[0m\u001b[0;34m\u001b[0m\u001b[0;34m\u001b[0m\u001b[0m\n\u001b[0m",
            "\u001b[0;32m/usr/local/lib/python3.10/dist-packages/pyspark/sql/session.py\u001b[0m in \u001b[0;36msql\u001b[0;34m(self, sqlQuery, args, **kwargs)\u001b[0m\n\u001b[1;32m   1629\u001b[0m                     \u001b[0;34m[\u001b[0m\u001b[0m_to_java_column\u001b[0m\u001b[0;34m(\u001b[0m\u001b[0mlit\u001b[0m\u001b[0;34m(\u001b[0m\u001b[0mv\u001b[0m\u001b[0;34m)\u001b[0m\u001b[0;34m)\u001b[0m \u001b[0;32mfor\u001b[0m \u001b[0mv\u001b[0m \u001b[0;32min\u001b[0m \u001b[0;34m(\u001b[0m\u001b[0margs\u001b[0m \u001b[0;32mor\u001b[0m \u001b[0;34m[\u001b[0m\u001b[0;34m]\u001b[0m\u001b[0;34m)\u001b[0m\u001b[0;34m]\u001b[0m\u001b[0;34m\u001b[0m\u001b[0;34m\u001b[0m\u001b[0m\n\u001b[1;32m   1630\u001b[0m                 )\n\u001b[0;32m-> 1631\u001b[0;31m             \u001b[0;32mreturn\u001b[0m \u001b[0mDataFrame\u001b[0m\u001b[0;34m(\u001b[0m\u001b[0mself\u001b[0m\u001b[0;34m.\u001b[0m\u001b[0m_jsparkSession\u001b[0m\u001b[0;34m.\u001b[0m\u001b[0msql\u001b[0m\u001b[0;34m(\u001b[0m\u001b[0msqlQuery\u001b[0m\u001b[0;34m,\u001b[0m \u001b[0mlitArgs\u001b[0m\u001b[0;34m)\u001b[0m\u001b[0;34m,\u001b[0m \u001b[0mself\u001b[0m\u001b[0;34m)\u001b[0m\u001b[0;34m\u001b[0m\u001b[0;34m\u001b[0m\u001b[0m\n\u001b[0m\u001b[1;32m   1632\u001b[0m         \u001b[0;32mfinally\u001b[0m\u001b[0;34m:\u001b[0m\u001b[0;34m\u001b[0m\u001b[0;34m\u001b[0m\u001b[0m\n\u001b[1;32m   1633\u001b[0m             \u001b[0;32mif\u001b[0m \u001b[0mlen\u001b[0m\u001b[0;34m(\u001b[0m\u001b[0mkwargs\u001b[0m\u001b[0;34m)\u001b[0m \u001b[0;34m>\u001b[0m \u001b[0;36m0\u001b[0m\u001b[0;34m:\u001b[0m\u001b[0;34m\u001b[0m\u001b[0;34m\u001b[0m\u001b[0m\n",
            "\u001b[0;32m/usr/local/lib/python3.10/dist-packages/py4j/java_gateway.py\u001b[0m in \u001b[0;36m__call__\u001b[0;34m(self, *args)\u001b[0m\n\u001b[1;32m   1320\u001b[0m \u001b[0;34m\u001b[0m\u001b[0m\n\u001b[1;32m   1321\u001b[0m         \u001b[0manswer\u001b[0m \u001b[0;34m=\u001b[0m \u001b[0mself\u001b[0m\u001b[0;34m.\u001b[0m\u001b[0mgateway_client\u001b[0m\u001b[0;34m.\u001b[0m\u001b[0msend_command\u001b[0m\u001b[0;34m(\u001b[0m\u001b[0mcommand\u001b[0m\u001b[0;34m)\u001b[0m\u001b[0;34m\u001b[0m\u001b[0;34m\u001b[0m\u001b[0m\n\u001b[0;32m-> 1322\u001b[0;31m         return_value = get_return_value(\n\u001b[0m\u001b[1;32m   1323\u001b[0m             answer, self.gateway_client, self.target_id, self.name)\n\u001b[1;32m   1324\u001b[0m \u001b[0;34m\u001b[0m\u001b[0m\n",
            "\u001b[0;32m/usr/local/lib/python3.10/dist-packages/pyspark/errors/exceptions/captured.py\u001b[0m in \u001b[0;36mdeco\u001b[0;34m(*a, **kw)\u001b[0m\n\u001b[1;32m    183\u001b[0m                 \u001b[0;31m# Hide where the exception came from that shows a non-Pythonic\u001b[0m\u001b[0;34m\u001b[0m\u001b[0;34m\u001b[0m\u001b[0m\n\u001b[1;32m    184\u001b[0m                 \u001b[0;31m# JVM exception message.\u001b[0m\u001b[0;34m\u001b[0m\u001b[0;34m\u001b[0m\u001b[0m\n\u001b[0;32m--> 185\u001b[0;31m                 \u001b[0;32mraise\u001b[0m \u001b[0mconverted\u001b[0m \u001b[0;32mfrom\u001b[0m \u001b[0;32mNone\u001b[0m\u001b[0;34m\u001b[0m\u001b[0;34m\u001b[0m\u001b[0m\n\u001b[0m\u001b[1;32m    186\u001b[0m             \u001b[0;32melse\u001b[0m\u001b[0;34m:\u001b[0m\u001b[0;34m\u001b[0m\u001b[0;34m\u001b[0m\u001b[0m\n\u001b[1;32m    187\u001b[0m                 \u001b[0;32mraise\u001b[0m\u001b[0;34m\u001b[0m\u001b[0;34m\u001b[0m\u001b[0m\n",
            "\u001b[0;31mAnalysisException\u001b[0m: [SCHEMA_NOT_FOUND] The schema `olympics_db` cannot be found. Verify the spelling and correctness of the schema and catalog.\nIf you did not qualify the name with a catalog, verify the current_schema() output, or qualify the name with the correct catalog.\nTo tolerate the error on drop use DROP SCHEMA IF EXISTS."
          ]
        }
      ],
      "source": [
        "spark.sql(\"use olympics_db\")"
      ]
    },
    {
      "cell_type": "code",
      "execution_count": null,
      "metadata": {
        "colab": {
          "background_save": true
        },
        "id": "3UP3On54B_F6",
        "outputId": "2d97f15c-7e90-45e0-c9d1-c053067742da"
      },
      "outputs": [
        {
          "ename": "NameError",
          "evalue": "name 'countries_df' is not defined",
          "output_type": "error",
          "traceback": [
            "\u001b[0;31m---------------------------------------------------------------------------\u001b[0m",
            "\u001b[0;31mNameError\u001b[0m                                 Traceback (most recent call last)",
            "\u001b[0;32m<ipython-input-2-53d1a8545d95>\u001b[0m in \u001b[0;36m<cell line: 1>\u001b[0;34m()\u001b[0m\n\u001b[0;32m----> 1\u001b[0;31m \u001b[0mcountries_df\u001b[0m\u001b[0;34m.\u001b[0m\u001b[0mwrite\u001b[0m\u001b[0;34m.\u001b[0m\u001b[0mmode\u001b[0m\u001b[0;34m(\u001b[0m\u001b[0;34m\"overwrite\"\u001b[0m\u001b[0;34m)\u001b[0m\u001b[0;34m.\u001b[0m\u001b[0mformat\u001b[0m\u001b[0;34m(\u001b[0m\u001b[0;34m\"delta\"\u001b[0m\u001b[0;34m)\u001b[0m\u001b[0;34m.\u001b[0m\u001b[0msaveAsTable\u001b[0m\u001b[0;34m(\u001b[0m\u001b[0;34m\"countries\"\u001b[0m\u001b[0;34m)\u001b[0m\u001b[0;34m\u001b[0m\u001b[0;34m\u001b[0m\u001b[0m\n\u001b[0m",
            "\u001b[0;31mNameError\u001b[0m: name 'countries_df' is not defined"
          ]
        }
      ],
      "source": [
        "countries_df.write.mode(\"overwrite\").format(\"delta\").saveAsTable(\"countries\")"
      ]
    }
  ],
  "metadata": {
    "colab": {
      "provenance": []
    },
    "kernelspec": {
      "display_name": "Python 3",
      "name": "python3"
    },
    "language_info": {
      "name": "python"
    }
  },
  "nbformat": 4,
  "nbformat_minor": 0
}