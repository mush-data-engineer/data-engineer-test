{
  "nbformat": 4,
  "nbformat_minor": 0,
  "metadata": {
    "colab": {
      "provenance": []
    },
    "kernelspec": {
      "name": "python3",
      "display_name": "Python 3"
    },
    "language_info": {
      "name": "python"
    }
  },
  "cells": [
    {
      "cell_type": "code",
      "source": [
        "%run \"/content/drive/MyDrive/notebooks/spark-setup.ipynb\""
      ],
      "metadata": {
        "id": "2HJPGWrzODBx"
      },
      "execution_count": null,
      "outputs": []
    },
    {
      "cell_type": "code",
      "source": [
        "# read countries\n",
        "countries_df =spark.read.options(inferSchema=True, header=True).csv(\"/content/drive/MyDrive/datasets/countries/countries of the world.csv\")"
      ],
      "metadata": {
        "id": "68CAAn3c9opn"
      },
      "execution_count": null,
      "outputs": []
    },
    {
      "cell_type": "code",
      "source": [
        "countries_df = countries_df \\\n",
        "  .withColumnRenamed('Area (sq. mi.)','area_per_squaremile' ) \\\n",
        "  .withColumnRenamed('Pop. Density (per sq. mi.)','population_density_per_square_mile' ) \\\n",
        "  .withColumnRenamed('Coastline (coast/area ratio)','coastline_area_ratio' ) \\\n",
        "  .withColumnRenamed('Net migration','net_migration' ) \\\n",
        "  .withColumnRenamed('Infant mortality (per 1000 births)','infant_mortality_per_thousand' ) \\\n",
        "  .withColumnRenamed('GDP ($ per capita)', 'gdp') \\\n",
        "  .withColumnRenamed('Literacy (%)', 'literacy_rate') \\\n",
        "  .withColumnRenamed('Phones (per 1000)', 'phones_per_thousand') \\\n",
        "  .withColumnRenamed('Arable (%)', 'arable_percentage') \\\n",
        "  .withColumnRenamed('Crops (%)', 'crops_percentage') \\\n",
        "  .withColumnRenamed('Other (%)', 'other_percentage') \\\n",
        "  .withColumnRenamed('Climate', 'climate')\n"
      ],
      "metadata": {
        "id": "4eTOUG4iTlzB"
      },
      "execution_count": null,
      "outputs": []
    },
    {
      "cell_type": "code",
      "source": [
        "countries_df.show()"
      ],
      "metadata": {
        "id": "w6c5ZLcIPT7e"
      },
      "execution_count": null,
      "outputs": []
    },
    {
      "cell_type": "code",
      "source": [
        "spark.sql(\"create database olympics_db\")\n",
        "spark.sql(\"use olympics_db\")"
      ],
      "metadata": {
        "id": "tcBdh_YIB5RU"
      },
      "execution_count": null,
      "outputs": []
    },
    {
      "cell_type": "code",
      "source": [
        "countries_df.write.mode(\"overwrite\").format(\"delta\").saveAsTable(\"countries\")"
      ],
      "metadata": {
        "id": "3UP3On54B_F6"
      },
      "execution_count": null,
      "outputs": []
    },
    {
      "cell_type": "code",
      "source": [
        "countries_delta = spark.read.table(\"olympics_db.countries\")"
      ],
      "metadata": {
        "id": "9NUxobDsCDJ0"
      },
      "execution_count": null,
      "outputs": []
    }
  ]
}