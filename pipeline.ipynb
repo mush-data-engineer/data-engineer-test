{
  "nbformat": 4,
  "nbformat_minor": 0,
  "metadata": {
    "colab": {
      "provenance": []
    },
    "kernelspec": {
      "name": "python3",
      "display_name": "Python 3"
    },
    "language_info": {
      "name": "python"
    }
  },
  "cells": [
    {
      "cell_type": "code",
      "execution_count": 26,
      "metadata": {
        "id": "bXqI10mAD5eU"
      },
      "outputs": [],
      "source": [
        "%run \"/content/drive/MyDrive/Colab Notebooks/spark-setup.ipynb\""
      ]
    },
    {
      "cell_type": "code",
      "source": [
        "from google.colab import drive\n",
        "drive.mount('/content/drive')"
      ],
      "metadata": {
        "id": "1Fv0rSxczFrJ"
      },
      "execution_count": null,
      "outputs": []
    },
    {
      "cell_type": "code",
      "source": [
        "#Drop Database\n",
        "spark.sql(\"DROP SCHEMA IF EXISTS olympics_db CASCADE\")"
      ],
      "metadata": {
        "colab": {
          "base_uri": "https://localhost:8080/"
        },
        "id": "g8Wx2h0FcmkI",
        "outputId": "127cf0ce-a4db-48be-c826-333a8d5758dd"
      },
      "execution_count": 28,
      "outputs": [
        {
          "output_type": "execute_result",
          "data": {
            "text/plain": [
              "DataFrame[]"
            ]
          },
          "metadata": {},
          "execution_count": 28
        }
      ]
    },
    {
      "cell_type": "code",
      "source": [
        "#Setup Database\n",
        "spark.sql(\"create database olympics_db\")"
      ],
      "metadata": {
        "id": "GWFyoUiTc536"
      },
      "execution_count": null,
      "outputs": []
    },
    {
      "cell_type": "code",
      "source": [
        "%run \"/content/drive/MyDrive/Colab Notebooks/olympics.ipynb\""
      ],
      "metadata": {
        "id": "8JzdiT_IaRCv"
      },
      "execution_count": null,
      "outputs": []
    },
    {
      "cell_type": "code",
      "source": [
        "%run \"/content/drive/MyDrive/Colab Notebooks/countries.ipynb\""
      ],
      "metadata": {
        "id": "4fqe7zK5cU9q"
      },
      "execution_count": null,
      "outputs": []
    },
    {
      "cell_type": "code",
      "source": [
        "countries = spark.read.table(\"olympics_db.countries\")"
      ],
      "metadata": {
        "id": "yYxdYvxqdDZn"
      },
      "execution_count": 32,
      "outputs": []
    },
    {
      "cell_type": "code",
      "source": [
        "olympics = spark.read.table(\"olympics_db.olympics\")"
      ],
      "metadata": {
        "id": "9URmJXsadVcn"
      },
      "execution_count": 33,
      "outputs": []
    },
    {
      "cell_type": "code",
      "source": [
        "spark.sql('select * from olympics where NOC=\"USA\"').show(truncate=False)"
      ],
      "metadata": {
        "id": "KTT9n8lpeZzK"
      },
      "execution_count": null,
      "outputs": []
    },
    {
      "cell_type": "code",
      "source": [
        "olympics.join(countries,olympics.NOC ==  countries.Country_Code,\"inner\") \\\n",
        "  .where(olympics.NOC == \"USA\") \\\n",
        "  .show(truncate=False)"
      ],
      "metadata": {
        "id": "9ubuNGaCqdTk"
      },
      "execution_count": null,
      "outputs": []
    },
    {
      "cell_type": "code",
      "source": [],
      "metadata": {
        "id": "Q_FjJSEztoHo"
      },
      "execution_count": null,
      "outputs": []
    }
  ]
}