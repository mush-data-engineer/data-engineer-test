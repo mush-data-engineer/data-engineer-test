{
  "nbformat": 4,
  "nbformat_minor": 0,
  "metadata": {
    "colab": {
      "provenance": []
    },
    "kernelspec": {
      "name": "python3",
      "display_name": "Python 3"
    },
    "language_info": {
      "name": "python"
    }
  },
  "cells": [
    {
      "cell_type": "code",
      "execution_count": null,
      "metadata": {
        "id": "J9DDOLkexx7j"
      },
      "outputs": [],
      "source": [
        "#install required libraries\n",
        "!pip install -q pyspark\n",
        "#Supports delta in colab environment\n",
        "!pip install -q delta-spark"
      ]
    },
    {
      "cell_type": "code",
      "source": [
        "def _create_delta_spark():\n",
        "  from pyspark.sql import SparkSession\n",
        "  from delta import configure_spark_with_delta_pip\n",
        "  builder = SparkSession.builder.appName(\"DeltaLakeApp\") \\\n",
        "  .config(\"spark.sql.extensions\", \"io.delta.sql.DeltaSparkSessionExtension\") \\\n",
        "  .config(\"spark.sql.catalog.spark_catalog\", \"org.apache.spark.sql.delta.catalog.DeltaCatalog\")\\\n",
        "  .config(\"spark.jars.packages\",\"io.delta:delta-core_2.12:2.0.0\")\n",
        "  return configure_spark_with_delta_pip(builder).getOrCreate()\n",
        "\n",
        "spark = _create_delta_spark()"
      ],
      "metadata": {
        "id": "rkdnLv7nx0V0"
      },
      "execution_count": null,
      "outputs": []
    }
  ]
}